{
 "cells": [
  {
   "cell_type": "markdown",
   "id": "fceed46b",
   "metadata": {
    "pycharm": {
     "name": "#%% md\n"
    }
   },
   "source": [
    "## 0. Imports"
   ]
  },
  {
   "cell_type": "code",
   "execution_count": 1,
   "id": "516fe3e6",
   "metadata": {
    "pycharm": {
     "name": "#%%\n"
    }
   },
   "outputs": [],
   "source": [
    "import matplotlib.pyplot as plt\n",
    "import pandas as pd\n",
    "import numpy as np\n",
    "import sklearn\n",
    "from sklearn.model_selection import train_test_split\n",
    "from sklearn.cluster import KMeans\n",
    "\n",
    "import seaborn as sns\n",
    "from sklearn import metrics\n",
    "from sklearn.metrics import (\n",
    "    accuracy_score,\n",
    "    precision_score,\n",
    "    recall_score,\n",
    "    f1_score,\n",
    "    matthews_corrcoef,\n",
    "    balanced_accuracy_score,\n",
    "    roc_auc_score,\n",
    "    precision_recall_curve,\n",
    "    roc_curve,\n",
    "    confusion_matrix\n",
    ")\n",
    "\n",
    "from sklearn.cluster import KMeans\n",
    "from sklearn.metrics import silhouette_score\n",
    "from sklearn.metrics import pairwise_distances\n",
    "from sklearn.utils import resample\n",
    "from sklearn.cluster import AgglomerativeClustering\n",
    "\n",
    "import warnings\n",
    "warnings.filterwarnings(\"ignore\")"
   ]
  },
  {
   "cell_type": "code",
   "execution_count": 19,
   "id": "27700a95",
   "metadata": {
    "pycharm": {
     "name": "#%%\n"
    }
   },
   "outputs": [],
   "source": [
    "import matplotlib.pyplot as plt\n",
    "plt.rcParams[\"figure.figsize\"] = (12,5)"
   ]
  },
  {
   "cell_type": "code",
   "execution_count": 2,
   "id": "10b6f915",
   "metadata": {
    "pycharm": {
     "name": "#%%\n"
    }
   },
   "outputs": [
    {
     "data": {
      "text/plain": [
       "'1.0.2'"
      ]
     },
     "execution_count": 2,
     "metadata": {},
     "output_type": "execute_result"
    }
   ],
   "source": [
    "sklearn.__version__"
   ]
  },
  {
   "cell_type": "markdown",
   "id": "e5481014",
   "metadata": {
    "pycharm": {
     "name": "#%% md\n"
    }
   },
   "source": [
    "## 1. Відкрити та зчитати наданий файл з даними."
   ]
  },
  {
   "cell_type": "code",
   "execution_count": 2,
   "id": "6a3023a1",
   "metadata": {
    "pycharm": {
     "name": "#%%\n"
    }
   },
   "outputs": [],
   "source": [
    "df = pd.read_csv(r\"WQ-R.csv\",sep=\";\")"
   ]
  },
  {
   "cell_type": "code",
   "execution_count": 3,
   "id": "d49e9275",
   "metadata": {
    "pycharm": {
     "name": "#%%\n"
    }
   },
   "outputs": [
    {
     "data": {
      "text/html": [
       "<div>\n",
       "<style scoped>\n",
       "    .dataframe tbody tr th:only-of-type {\n",
       "        vertical-align: middle;\n",
       "    }\n",
       "\n",
       "    .dataframe tbody tr th {\n",
       "        vertical-align: top;\n",
       "    }\n",
       "\n",
       "    .dataframe thead th {\n",
       "        text-align: right;\n",
       "    }\n",
       "</style>\n",
       "<table border=\"1\" class=\"dataframe\">\n",
       "  <thead>\n",
       "    <tr style=\"text-align: right;\">\n",
       "      <th></th>\n",
       "      <th>fixed acidity</th>\n",
       "      <th>volatile acidity</th>\n",
       "      <th>citric acid</th>\n",
       "      <th>residual sugar</th>\n",
       "      <th>chlorides</th>\n",
       "      <th>free sulfur dioxide</th>\n",
       "      <th>total sulfur dioxide</th>\n",
       "      <th>density</th>\n",
       "      <th>pH</th>\n",
       "      <th>sulphates</th>\n",
       "      <th>alcohol</th>\n",
       "      <th>quality</th>\n",
       "    </tr>\n",
       "  </thead>\n",
       "  <tbody>\n",
       "    <tr>\n",
       "      <th>0</th>\n",
       "      <td>7.4</td>\n",
       "      <td>0.70</td>\n",
       "      <td>0.00</td>\n",
       "      <td>1.9</td>\n",
       "      <td>0.076</td>\n",
       "      <td>11.0</td>\n",
       "      <td>34.0</td>\n",
       "      <td>0.9978</td>\n",
       "      <td>3.51</td>\n",
       "      <td>0.56</td>\n",
       "      <td>9.4</td>\n",
       "      <td>5</td>\n",
       "    </tr>\n",
       "    <tr>\n",
       "      <th>1</th>\n",
       "      <td>7.8</td>\n",
       "      <td>0.88</td>\n",
       "      <td>0.00</td>\n",
       "      <td>2.6</td>\n",
       "      <td>0.098</td>\n",
       "      <td>25.0</td>\n",
       "      <td>67.0</td>\n",
       "      <td>0.9968</td>\n",
       "      <td>3.20</td>\n",
       "      <td>0.68</td>\n",
       "      <td>9.8</td>\n",
       "      <td>5</td>\n",
       "    </tr>\n",
       "    <tr>\n",
       "      <th>2</th>\n",
       "      <td>7.8</td>\n",
       "      <td>0.76</td>\n",
       "      <td>0.04</td>\n",
       "      <td>2.3</td>\n",
       "      <td>0.092</td>\n",
       "      <td>15.0</td>\n",
       "      <td>54.0</td>\n",
       "      <td>0.9970</td>\n",
       "      <td>3.26</td>\n",
       "      <td>0.65</td>\n",
       "      <td>9.8</td>\n",
       "      <td>5</td>\n",
       "    </tr>\n",
       "    <tr>\n",
       "      <th>3</th>\n",
       "      <td>11.2</td>\n",
       "      <td>0.28</td>\n",
       "      <td>0.56</td>\n",
       "      <td>1.9</td>\n",
       "      <td>0.075</td>\n",
       "      <td>17.0</td>\n",
       "      <td>60.0</td>\n",
       "      <td>0.9980</td>\n",
       "      <td>3.16</td>\n",
       "      <td>0.58</td>\n",
       "      <td>9.8</td>\n",
       "      <td>6</td>\n",
       "    </tr>\n",
       "    <tr>\n",
       "      <th>4</th>\n",
       "      <td>7.4</td>\n",
       "      <td>0.70</td>\n",
       "      <td>0.00</td>\n",
       "      <td>1.9</td>\n",
       "      <td>0.076</td>\n",
       "      <td>11.0</td>\n",
       "      <td>34.0</td>\n",
       "      <td>0.9978</td>\n",
       "      <td>3.51</td>\n",
       "      <td>0.56</td>\n",
       "      <td>9.4</td>\n",
       "      <td>5</td>\n",
       "    </tr>\n",
       "  </tbody>\n",
       "</table>\n",
       "</div>"
      ],
      "text/plain": [
       "   fixed acidity  volatile acidity  citric acid  residual sugar  chlorides  \\\n",
       "0            7.4              0.70         0.00             1.9      0.076   \n",
       "1            7.8              0.88         0.00             2.6      0.098   \n",
       "2            7.8              0.76         0.04             2.3      0.092   \n",
       "3           11.2              0.28         0.56             1.9      0.075   \n",
       "4            7.4              0.70         0.00             1.9      0.076   \n",
       "\n",
       "   free sulfur dioxide  total sulfur dioxide  density    pH  sulphates  \\\n",
       "0                 11.0                  34.0   0.9978  3.51       0.56   \n",
       "1                 25.0                  67.0   0.9968  3.20       0.68   \n",
       "2                 15.0                  54.0   0.9970  3.26       0.65   \n",
       "3                 17.0                  60.0   0.9980  3.16       0.58   \n",
       "4                 11.0                  34.0   0.9978  3.51       0.56   \n",
       "\n",
       "   alcohol  quality  \n",
       "0      9.4        5  \n",
       "1      9.8        5  \n",
       "2      9.8        5  \n",
       "3      9.8        6  \n",
       "4      9.4        5  "
      ]
     },
     "execution_count": 3,
     "metadata": {},
     "output_type": "execute_result"
    }
   ],
   "source": [
    "df.head()"
   ]
  },
  {
   "cell_type": "markdown",
   "id": "cd8aa3e1",
   "metadata": {
    "pycharm": {
     "name": "#%% md\n"
    }
   },
   "source": [
    "# 2. Визначити та вивести кількість записів."
   ]
  },
  {
   "cell_type": "code",
   "execution_count": 6,
   "id": "23176a84",
   "metadata": {
    "pycharm": {
     "name": "#%%\n"
    }
   },
   "outputs": [
    {
     "name": "stdout",
     "output_type": "stream",
     "text": [
      "Кількість колонок - 1599\n",
      "Кільість стовпців - 12\n"
     ]
    }
   ],
   "source": [
    "print(f\"Кількість колонок - {df.shape[0]}\\nКільість стовпців - {df.shape[1]}\")"
   ]
  },
  {
   "cell_type": "markdown",
   "id": "da5a2d80",
   "metadata": {
    "pycharm": {
     "name": "#%% md\n"
    }
   },
   "source": [
    "# 3. Видалити атрибут quality."
   ]
  },
  {
   "cell_type": "code",
   "execution_count": 7,
   "id": "aeccfe26",
   "metadata": {
    "pycharm": {
     "name": "#%%\n"
    }
   },
   "outputs": [],
   "source": [
    "# Split data\n",
    "y = df[\"quality\"]\n",
    "X = df.drop([\"quality\"], axis = 1)\n",
    "\n",
    "X_train, X_test, y_train, y_test = train_test_split(X, y, test_size=0.25, random_state=42)"
   ]
  },
  {
   "cell_type": "markdown",
   "id": "b40e04b9",
   "metadata": {
    "pycharm": {
     "name": "#%% md\n"
    }
   },
   "source": [
    "# 4. Вивести атрибути, що залишилися."
   ]
  },
  {
   "cell_type": "code",
   "execution_count": 10,
   "id": "7c23bea2",
   "metadata": {
    "pycharm": {
     "name": "#%%\n"
    }
   },
   "outputs": [
    {
     "name": "stdout",
     "output_type": "stream",
     "text": [
      "Залишилось 11 стовпців(атрибутів).\n",
      "Атрибути які лишились:\n",
      "['fixed acidity', 'volatile acidity', 'citric acid', 'residual sugar', 'chlorides', 'free sulfur dioxide', 'total sulfur dioxide', 'density', 'pH', 'sulphates', 'alcohol']\n"
     ]
    }
   ],
   "source": [
    "labels = X.columns\n",
    "print(f\"Залишилось {X.shape[1]} стовпців(атрибутів).\\nАтрибути які лишились:\\n{X.columns.to_list()}\")"
   ]
  },
  {
   "cell_type": "code",
   "execution_count": 11,
   "id": "c213d344",
   "metadata": {
    "pycharm": {
     "name": "#%%\n"
    }
   },
   "outputs": [
    {
     "data": {
      "text/html": [
       "<div>\n",
       "<style scoped>\n",
       "    .dataframe tbody tr th:only-of-type {\n",
       "        vertical-align: middle;\n",
       "    }\n",
       "\n",
       "    .dataframe tbody tr th {\n",
       "        vertical-align: top;\n",
       "    }\n",
       "\n",
       "    .dataframe thead th {\n",
       "        text-align: right;\n",
       "    }\n",
       "</style>\n",
       "<table border=\"1\" class=\"dataframe\">\n",
       "  <thead>\n",
       "    <tr style=\"text-align: right;\">\n",
       "      <th></th>\n",
       "      <th>fixed acidity</th>\n",
       "      <th>volatile acidity</th>\n",
       "      <th>citric acid</th>\n",
       "      <th>residual sugar</th>\n",
       "      <th>chlorides</th>\n",
       "      <th>free sulfur dioxide</th>\n",
       "      <th>total sulfur dioxide</th>\n",
       "      <th>density</th>\n",
       "      <th>pH</th>\n",
       "      <th>sulphates</th>\n",
       "      <th>alcohol</th>\n",
       "      <th>quality</th>\n",
       "    </tr>\n",
       "  </thead>\n",
       "  <tbody>\n",
       "    <tr>\n",
       "      <th>0</th>\n",
       "      <td>7.4</td>\n",
       "      <td>0.70</td>\n",
       "      <td>0.00</td>\n",
       "      <td>1.9</td>\n",
       "      <td>0.076</td>\n",
       "      <td>11.0</td>\n",
       "      <td>34.0</td>\n",
       "      <td>0.9978</td>\n",
       "      <td>3.51</td>\n",
       "      <td>0.56</td>\n",
       "      <td>9.4</td>\n",
       "      <td>5</td>\n",
       "    </tr>\n",
       "    <tr>\n",
       "      <th>1</th>\n",
       "      <td>7.8</td>\n",
       "      <td>0.88</td>\n",
       "      <td>0.00</td>\n",
       "      <td>2.6</td>\n",
       "      <td>0.098</td>\n",
       "      <td>25.0</td>\n",
       "      <td>67.0</td>\n",
       "      <td>0.9968</td>\n",
       "      <td>3.20</td>\n",
       "      <td>0.68</td>\n",
       "      <td>9.8</td>\n",
       "      <td>5</td>\n",
       "    </tr>\n",
       "    <tr>\n",
       "      <th>2</th>\n",
       "      <td>7.8</td>\n",
       "      <td>0.76</td>\n",
       "      <td>0.04</td>\n",
       "      <td>2.3</td>\n",
       "      <td>0.092</td>\n",
       "      <td>15.0</td>\n",
       "      <td>54.0</td>\n",
       "      <td>0.9970</td>\n",
       "      <td>3.26</td>\n",
       "      <td>0.65</td>\n",
       "      <td>9.8</td>\n",
       "      <td>5</td>\n",
       "    </tr>\n",
       "    <tr>\n",
       "      <th>3</th>\n",
       "      <td>11.2</td>\n",
       "      <td>0.28</td>\n",
       "      <td>0.56</td>\n",
       "      <td>1.9</td>\n",
       "      <td>0.075</td>\n",
       "      <td>17.0</td>\n",
       "      <td>60.0</td>\n",
       "      <td>0.9980</td>\n",
       "      <td>3.16</td>\n",
       "      <td>0.58</td>\n",
       "      <td>9.8</td>\n",
       "      <td>6</td>\n",
       "    </tr>\n",
       "    <tr>\n",
       "      <th>4</th>\n",
       "      <td>7.4</td>\n",
       "      <td>0.70</td>\n",
       "      <td>0.00</td>\n",
       "      <td>1.9</td>\n",
       "      <td>0.076</td>\n",
       "      <td>11.0</td>\n",
       "      <td>34.0</td>\n",
       "      <td>0.9978</td>\n",
       "      <td>3.51</td>\n",
       "      <td>0.56</td>\n",
       "      <td>9.4</td>\n",
       "      <td>5</td>\n",
       "    </tr>\n",
       "  </tbody>\n",
       "</table>\n",
       "</div>"
      ],
      "text/plain": [
       "   fixed acidity  volatile acidity  citric acid  residual sugar  chlorides  \\\n",
       "0            7.4              0.70         0.00             1.9      0.076   \n",
       "1            7.8              0.88         0.00             2.6      0.098   \n",
       "2            7.8              0.76         0.04             2.3      0.092   \n",
       "3           11.2              0.28         0.56             1.9      0.075   \n",
       "4            7.4              0.70         0.00             1.9      0.076   \n",
       "\n",
       "   free sulfur dioxide  total sulfur dioxide  density    pH  sulphates  \\\n",
       "0                 11.0                  34.0   0.9978  3.51       0.56   \n",
       "1                 25.0                  67.0   0.9968  3.20       0.68   \n",
       "2                 15.0                  54.0   0.9970  3.26       0.65   \n",
       "3                 17.0                  60.0   0.9980  3.16       0.58   \n",
       "4                 11.0                  34.0   0.9978  3.51       0.56   \n",
       "\n",
       "   alcohol  quality  \n",
       "0      9.4        5  \n",
       "1      9.8        5  \n",
       "2      9.8        5  \n",
       "3      9.8        6  \n",
       "4      9.4        5  "
      ]
     },
     "execution_count": 11,
     "metadata": {},
     "output_type": "execute_result"
    }
   ],
   "source": [
    "df.head()"
   ]
  },
  {
   "cell_type": "code",
   "execution_count": null,
   "id": "e8a630cb",
   "metadata": {
    "pycharm": {
     "name": "#%%\n"
    }
   },
   "outputs": [],
   "source": [
    "# 1. KMeans (optimum n_clusters)\n",
    "# 2. scatterplot (color for each cluster) per each pair of attributes"
   ]
  },
  {
   "cell_type": "code",
   "execution_count": null,
   "id": "52d2e8fc",
   "metadata": {
    "pycharm": {
     "name": "#%%\n"
    }
   },
   "outputs": [],
   "source": [
    "# pca (inverse), t-sne (no-inverse), umap (no-inverse)\n",
    "# 1. umap (11 -> 2)\n",
    "# 2. KMeans (optimum n_clusters)\n",
    "# 3. scatterplot (color for each cluster)"
   ]
  },
  {
   "cell_type": "markdown",
   "id": "48fde923",
   "metadata": {
    "pycharm": {
     "name": "#%% md\n"
    }
   },
   "source": [
    "## 5. Використовуючи функцію KMeans бібліотеки scikit-learn, виконати:\n",
    "розбиття набору даних на кластери з випадковою початковою\n",
    "ініціалізацією і вивести координати центрів кластерів.\n",
    "Оптимальну кількість кластерів визначити на основі початкового\n",
    "набору даних трьома різними способами:\n",
    "\n"
   ]
  },
  {
   "cell_type": "code",
   "execution_count": 12,
   "id": "3df622a8",
   "metadata": {
    "pycharm": {
     "name": "#%%\n"
    }
   },
   "outputs": [],
   "source": [
    "inertia, silhouette_scores = [], []\n",
    "\n",
    "k_values = range(2, 15)\n",
    "for k in k_values:\n",
    "    kmeans = KMeans(n_clusters=k, random_state=42)\n",
    "    kmeans.fit(X)\n",
    "    cluster_centers = kmeans.cluster_centers_\n",
    "    inertia.append(kmeans.inertia_)\n",
    "    labels = kmeans.labels_\n",
    "    silhouette_avg = silhouette_score(X, labels)\n",
    "    silhouette_scores.append(silhouette_avg)"
   ]
  },
  {
   "cell_type": "code",
   "execution_count": 13,
   "id": "6742d82c",
   "metadata": {
    "scrolled": true,
    "pycharm": {
     "name": "#%%\n"
    }
   },
   "outputs": [
    {
     "name": "stdout",
     "output_type": "stream",
     "text": [
      "[8.05405405e+00 5.31756757e-01 3.24054054e-01 3.19459459e+00\n",
      " 8.46756757e-02 2.69459459e+01 1.26000000e+02 9.97371892e-01\n",
      " 3.23297297e+00 7.79459459e-01 9.65405405e+00]\n",
      "[ 8.371       0.522775    0.25685     2.35725     0.0848     14.625\n",
      " 37.75        0.99683815  3.33635     0.63675    10.4355    ]\n",
      "[ 8.11981132  0.5529717   0.28801887  2.44811321  0.10881132 16.85849057\n",
      " 64.99056604  0.99703387  3.29688679  0.68122642 10.03946541]\n",
      "[7.9000e+00 3.0000e-01 6.8000e-01 8.3000e+00 5.0000e-02 3.7500e+01\n",
      " 2.8350e+02 9.9316e-01 3.0100e+00 5.1000e-01 1.2300e+01]\n",
      "[ 7.77980769  0.60317308  0.24490385  2.81153846  0.08742308 20.32692308\n",
      " 86.80769231  0.99688808  3.34048077  0.63298077 10.10224359]\n",
      "[ 8.54793388  0.52650826  0.28595041  2.45764463  0.08649174  5.0661157\n",
      " 12.42975207  0.99637417  3.3053719   0.62152893 10.79483471]\n",
      "[ 8.45819672  0.52766393  0.26106557  2.5307377   0.10262295 14.23360656\n",
      " 49.13934426  0.9971427   3.29877049  0.67442623 10.24918033]\n",
      "[ 8.34222222  0.47633333  0.28233333  2.51277778  0.086      33.5\n",
      " 67.18888889  0.99688744  3.33844444  0.66422222 10.40222222]\n",
      "[ 8.96465863  0.50118474  0.30943775  2.47409639  0.08365863  7.93975904\n",
      " 20.95983936  0.99704269  3.27437751  0.6739759  10.51084337]\n",
      "[ 8.02135922  0.52774272  0.22393204  2.19660194  0.08191748 12.50485437\n",
      " 28.30097087  0.99636529  3.33592233  0.65441748 10.52726537]\n",
      "[7.85178571e+00 5.80803571e-01 2.62321429e-01 3.01428571e+00\n",
      " 8.75178571e-02 1.81607143e+01 1.05392857e+02 9.96906607e-01\n",
      " 3.28464286e+00 6.53214286e-01 1.00636905e+01]\n",
      "[ 7.87355372  0.51086777  0.23586777  2.38842975  0.07550413 28.30578512\n",
      " 48.50413223  0.99617727  3.36165289  0.70495868 10.66900826]\n",
      "[8.25172414e+00 5.91724138e-01 3.24827586e-01 2.97586207e+00\n",
      " 9.10344828e-02 3.42586207e+01 1.46137931e+02 9.96958276e-01\n",
      " 3.23586207e+00 6.31724138e-01 9.78620690e+00]\n",
      "[7.93428571e+00 5.18285714e-01 2.93714286e-01 4.54571429e+00\n",
      " 9.90285714e-02 4.34285714e+01 9.99428571e+01 9.96987429e-01\n",
      " 3.28028571e+00 6.23714286e-01 1.02728571e+01]\n"
     ]
    }
   ],
   "source": [
    "for center in cluster_centers:\n",
    "    print(center)"
   ]
  },
  {
   "cell_type": "markdown",
   "id": "60cfac08",
   "metadata": {
    "pycharm": {
     "name": "#%% md\n"
    }
   },
   "source": [
    "## 5.1 elbow method;"
   ]
  },
  {
   "cell_type": "code",
   "execution_count": 20,
   "id": "87740b10",
   "metadata": {
    "pycharm": {
     "name": "#%%\n"
    }
   },
   "outputs": [
    {
     "data": {
      "image/png": "[encoded data removed]",
      "text/plain": [
       "<Figure size 864x360 with 1 Axes>"
      ]
     },
     "metadata": {
      "needs_background": "light"
     },
     "output_type": "display_data"
    }
   ],
   "source": [
    "plt.plot(k_values, inertia, 'bo-')\n",
    "plt.xlabel('Number of clusters')\n",
    "plt.ylabel('Sum of squared distances')\n",
    "plt.title('Elbow Method')\n",
    "plt.show()"
   ]
  },
  {
   "cell_type": "code",
   "execution_count": null,
   "id": "06721277",
   "metadata": {
    "pycharm": {
     "name": "#%%\n"
    }
   },
   "outputs": [],
   "source": [
    "# pip install yellowbrick"
   ]
  },
  {
   "cell_type": "code",
   "execution_count": 13,
   "id": "492a4ebd",
   "metadata": {
    "pycharm": {
     "name": "#%%\n"
    }
   },
   "outputs": [],
   "source": [
    "# KElbowVisualizer\n",
    "# By default, the scoring parameter metric is set to distortion,\n",
    "# which computes the sum of squared distances from each point to its assigned center.\n",
    "\n",
    "# However, two other metrics can also be used with the KElbowVisualizer – silhouette and calinski_harabasz.\n",
    "# The silhouette score calculates the mean Silhouette Coefficient of all samples,\n",
    "# while the calinski_harabasz score computes the ratio of dispersion between and within clusters.\n",
    "# https://www.scikit-yb.org/en/latest/api/cluster/elbow.html?highlight=metric"
   ]
  },
  {
   "cell_type": "code",
   "execution_count": 29,
   "id": "8d9f345b",
   "metadata": {
    "pycharm": {
     "name": "#%%\n"
    }
   },
   "outputs": [
    {
     "data": {
      "image/png": "[encoded data removed]",
      "text/plain": [
       "<Figure size 576x396 with 1 Axes>"
      ]
     },
     "metadata": {},
     "output_type": "display_data"
    },
    {
     "data": {
      "text/plain": [
       "<AxesSubplot:title={'center':'Calinski Harabasz Score Elbow for KMeans Clustering'}, xlabel='k', ylabel='calinski harabasz score'>"
      ]
     },
     "execution_count": 29,
     "metadata": {},
     "output_type": "execute_result"
    }
   ],
   "source": [
    "from yellowbrick.cluster import KElbowVisualizer\n",
    "\n",
    "# Instantiate the clustering model and visualizer\n",
    "model = KMeans(random_state=42)\n",
    "visualizer = KElbowVisualizer(\n",
    "    model, k=(2,14), metric='calinski_harabasz', timings=False\n",
    ")\n",
    "visualizer.fit(X)        # Fit the data to the visualizer\n",
    "visualizer.show() "
   ]
  },
  {
   "cell_type": "code",
   "execution_count": null,
   "id": "671de0f8",
   "metadata": {
    "pycharm": {
     "name": "#%%\n"
    }
   },
   "outputs": [],
   "source": [
    "# distortion - 5, silhouette - 2, calinski_harabasz - 3"
   ]
  },
  {
   "cell_type": "markdown",
   "id": "f5787a5c",
   "metadata": {
    "pycharm": {
     "name": "#%% md\n"
    }
   },
   "source": [
    "## 5.2 average silhouette method;"
   ]
  },
  {
   "cell_type": "code",
   "execution_count": 27,
   "id": "55b71c4b",
   "metadata": {
    "pycharm": {
     "name": "#%%\n"
    }
   },
   "outputs": [
    {
     "name": "stdout",
     "output_type": "stream",
     "text": [
      "Oптимальнe количествo кластеров с наивысшим показателем силуэта - 2\n"
     ]
    }
   ],
   "source": [
    "optimal_k = k_values[np.argmax(silhouette_scores)]\n",
    "print(f\"Oптимальнe количествo кластеров с наивысшим показателем силуэта - {optimal_k}\")"
   ]
  },
  {
   "cell_type": "code",
   "execution_count": 28,
   "id": "521a23b4",
   "metadata": {
    "pycharm": {
     "name": "#%%\n"
    }
   },
   "outputs": [
    {
     "data": {
      "image/png": "[encoded data removed]",
      "text/plain": [
       "<Figure size 576x396 with 1 Axes>"
      ]
     },
     "metadata": {},
     "output_type": "display_data"
    }
   ],
   "source": [
    "plt.plot(k_values, silhouette_scores, 'bo-')\n",
    "plt.xlabel('Number of clusters (k)')\n",
    "plt.ylabel('Average Silhouette Score')\n",
    "plt.title('Average Silhouette Method')\n",
    "plt.show()"
   ]
  },
  {
   "cell_type": "markdown",
   "id": "186e29f9",
   "metadata": {
    "pycharm": {
     "name": "#%% md\n"
    }
   },
   "source": [
    "## 5.3 prediction strength method"
   ]
  },
  {
   "cell_type": "code",
   "execution_count": 32,
   "id": "0e0be784",
   "metadata": {
    "pycharm": {
     "name": "#%%\n"
    }
   },
   "outputs": [
    {
     "data": {
      "image/png": "[encoded data removed]",
      "text/plain": [
       "<IPython.core.display.Image object>"
      ]
     },
     "execution_count": 32,
     "metadata": {},
     "output_type": "execute_result"
    }
   ],
   "source": [
    "from IPython import display\n",
    "display.Image(\"img/triu_indices.png\")"
   ]
  },
  {
   "cell_type": "code",
   "execution_count": 70,
   "id": "b3fb9929",
   "metadata": {
    "pycharm": {
     "name": "#%%\n"
    }
   },
   "outputs": [],
   "source": [
    "X_sample = X.copy()\n",
    "distances = pairwise_distances(X_sample, metric='cosine') # euclidean"
   ]
  },
  {
   "cell_type": "code",
   "execution_count": 71,
   "id": "b87c8104",
   "metadata": {
    "pycharm": {
     "name": "#%%\n"
    }
   },
   "outputs": [
    {
     "data": {
      "text/plain": [
       "array([[2.22044605e-16, 1.34026292e-02, 6.84351674e-03, ...,\n",
       "        4.83960015e-02, 5.26565867e-02, 7.18766672e-03],\n",
       "       [1.34026292e-02, 0.00000000e+00, 4.72537597e-03, ...,\n",
       "        3.82617385e-02, 3.65401012e-02, 7.42190697e-03],\n",
       "       [6.84351674e-03, 4.72537597e-03, 0.00000000e+00, ...,\n",
       "        6.02053693e-02, 6.06387218e-02, 1.11600627e-02],\n",
       "       ...,\n",
       "       [4.83960015e-02, 3.82617385e-02, 6.02053693e-02, ...,\n",
       "        0.00000000e+00, 7.63927784e-04, 2.34579600e-02],\n",
       "       [5.26565867e-02, 3.65401012e-02, 6.06387218e-02, ...,\n",
       "        7.63927784e-04, 1.11022302e-16, 2.56686837e-02],\n",
       "       [7.18766672e-03, 7.42190697e-03, 1.11600627e-02, ...,\n",
       "        2.34579600e-02, 2.56686837e-02, 0.00000000e+00]])"
      ]
     },
     "execution_count": 71,
     "metadata": {},
     "output_type": "execute_result"
    }
   ],
   "source": [
    "distances"
   ]
  },
  {
   "cell_type": "code",
   "execution_count": 74,
   "id": "ddd4cb07",
   "metadata": {
    "pycharm": {
     "name": "#%%\n"
    }
   },
   "outputs": [
    {
     "data": {
      "text/plain": [
       "(array([   0,    0,    0, ..., 1597, 1597, 1598]),\n",
       " array([   0,    1,    2, ..., 1597, 1598, 1598]))"
      ]
     },
     "execution_count": 74,
     "metadata": {},
     "output_type": "execute_result"
    }
   ],
   "source": [
    "np.triu_indices(len(X_sample), k=0)"
   ]
  },
  {
   "cell_type": "code",
   "execution_count": 72,
   "id": "84c8210b",
   "metadata": {
    "pycharm": {
     "name": "#%%\n"
    }
   },
   "outputs": [],
   "source": [
    "average_similarity = np.mean(np.triu_indices(len(X_sample), k=0))"
   ]
  },
  {
   "cell_type": "code",
   "execution_count": 73,
   "id": "dc83e470",
   "metadata": {
    "pycharm": {
     "name": "#%%\n"
    }
   },
   "outputs": [
    {
     "data": {
      "text/plain": [
       "799.0"
      ]
     },
     "execution_count": 73,
     "metadata": {},
     "output_type": "execute_result"
    }
   ],
   "source": [
    "np.mean(np.triu_indices(len(X_sample), k=1))"
   ]
  },
  {
   "cell_type": "code",
   "execution_count": 64,
   "id": "ad78af5a",
   "metadata": {
    "pycharm": {
     "name": "#%%\n"
    }
   },
   "outputs": [
    {
     "data": {
      "text/plain": [
       "799.0"
      ]
     },
     "execution_count": 64,
     "metadata": {},
     "output_type": "execute_result"
    }
   ],
   "source": [
    "len(np.triu_indices(len(X_sample), k=1)[0])/len(X_sample)"
   ]
  },
  {
   "cell_type": "code",
   "execution_count": 33,
   "id": "b1d5d9bb",
   "metadata": {
    "pycharm": {
     "name": "#%%\n"
    }
   },
   "outputs": [],
   "source": [
    "k = 2\n",
    "# X_sample = resample(X, replace=True)\n",
    "kmeans = KMeans(n_clusters=k, random_state=42)\n",
    "kmeans.fit(X_sample)\n",
    "labels = kmeans.labels_"
   ]
  },
  {
   "cell_type": "code",
   "execution_count": null,
   "id": "0fe26bb6",
   "metadata": {
    "pycharm": {
     "name": "#%%\n"
    }
   },
   "outputs": [],
   "source": [
    "n_bootstrap = 25\n",
    "prediction_strengths = []\n",
    "\n",
    "for k in range(2, n_bootstrap):\n",
    "    \n",
    "    kmeans = KMeans(n_clusters=k, random_state=42)\n",
    "    kmeans.fit(X_sample)\n",
    "    labels = kmeans.labels_\n",
    "    \n",
    "    average_similarity = np.mean(distances[np.triu_indices(len(X_sample), k=1)])\n",
    "    prediction_strength = 1 - average_similarity\n",
    "    prediction_strengths.append(prediction_strength)"
   ]
  },
  {
   "cell_type": "code",
   "execution_count": 17,
   "id": "93d185f5",
   "metadata": {
    "pycharm": {
     "name": "#%%\n"
    }
   },
   "outputs": [
    {
     "data": {
      "text/plain": [
       "-37.116092201516174"
      ]
     },
     "execution_count": 17,
     "metadata": {},
     "output_type": "execute_result"
    }
   ],
   "source": [
    "# Средняя предсказательная сила\n",
    "mean_prediction_strength = np.mean(prediction_strengths)\n",
    "mean_prediction_strength"
   ]
  },
  {
   "cell_type": "code",
   "execution_count": 18,
   "id": "470b239b",
   "metadata": {
    "pycharm": {
     "name": "#%%\n"
    }
   },
   "outputs": [
    {
     "data": {
      "text/plain": [
       "[-37.55962890074529,\n",
       " -37.900208772488796,\n",
       " -37.63398268722385,\n",
       " -36.8334777993469,\n",
       " -36.633174852992546,\n",
       " -37.82840078599626,\n",
       " -36.83505668240209,\n",
       " -37.37063655738874,\n",
       " -35.915401675830495,\n",
       " -37.24428963822315,\n",
       " -37.423304109515236,\n",
       " -37.350377901257694,\n",
       " -36.05203988626516,\n",
       " -38.18363336089071,\n",
       " -37.25617513738996,\n",
       " -35.36657788977478,\n",
       " -36.81375563385225,\n",
       " -37.21327542559592,\n",
       " -36.53162806495481,\n",
       " -38.40819081454663,\n",
       " -37.689016295505176,\n",
       " -37.203506488628804,\n",
       " -36.42438127405664]"
      ]
     },
     "execution_count": 18,
     "metadata": {},
     "output_type": "execute_result"
    }
   ],
   "source": [
    "prediction_strengths"
   ]
  },
  {
   "cell_type": "code",
   "execution_count": 19,
   "id": "7fd32c00",
   "metadata": {
    "pycharm": {
     "name": "#%%\n"
    }
   },
   "outputs": [
    {
     "data": {
      "image/png": "[encoded data removed]",
      "text/plain": [
       "<Figure size 640x480 with 1 Axes>"
      ]
     },
     "metadata": {},
     "output_type": "display_data"
    }
   ],
   "source": [
    "plt.plot(range(2, n_bootstrap), prediction_strengths, 'bo-')\n",
    "# plt.xlabel('Number of clusters (k)')\n",
    "# plt.ylabel('Average Silhouette Score')\n",
    "plt.title('prediction strength method')\n",
    "plt.show()"
   ]
  },
  {
   "cell_type": "markdown",
   "id": "1f789d8f",
   "metadata": {
    "pycharm": {
     "name": "#%% md\n"
    }
   },
   "source": [
    "## 5.4 Analyze & Compare\n",
    "Отримані результати порівняти і пояснити, який метод дав кращий результат і чому так (на Вашу думку)."
   ]
  },
  {
   "cell_type": "markdown",
   "id": "474d37ea",
   "metadata": {
    "pycharm": {
     "name": "#%% md\n"
    }
   },
   "source": [
    "## 6. За раніш обраної кількості кластерів\n",
    "багаторазово проведіть кластеризацію методом k-середніх, використовуючи для початкової\n",
    "ініціалізації метод k-means++.\n",
    "Виберіть найкращий варіант кластеризації. Який кількісний критерій\n",
    "Ви обрали для відбору найкращої кластеризації?"
   ]
  },
  {
   "cell_type": "code",
   "execution_count": 36,
   "id": "15bfda44",
   "metadata": {
    "pycharm": {
     "name": "#%%\n"
    }
   },
   "outputs": [],
   "source": [
    "def clasters(optimal_k):\n",
    "    kmeans = KMeans(n_clusters=optimal_k\n",
    "                    ,random_state=42\n",
    "                   )\n",
    "    kmeans.fit(X)\n",
    "    cluster_centers = kmeans.cluster_centers_\n",
    "\n",
    "    for center in cluster_centers:\n",
    "        print(center)"
   ]
  },
  {
   "cell_type": "markdown",
   "id": "ec579a18",
   "metadata": {
    "pycharm": {
     "name": "#%% md\n"
    }
   },
   "source": [
    "Links to help\n",
    "https://towardsdatascience.com/silhouette-coefficient-validating-clustering-techniques-e976bb81d10c"
   ]
  },
  {
   "cell_type": "code",
   "execution_count": 49,
   "id": "87dbd533",
   "metadata": {
    "pycharm": {
     "name": "#%%\n"
    }
   },
   "outputs": [],
   "source": [
    "#??????? silhouette_score(X, labels)"
   ]
  },
  {
   "cell_type": "code",
   "execution_count": 37,
   "id": "05484169",
   "metadata": {
    "pycharm": {
     "name": "#%%\n"
    }
   },
   "outputs": [
    {
     "name": "stdout",
     "output_type": "stream",
     "text": [
      "[ 8.42425785  0.51933418  0.26653944  2.39427481  0.08544614 12.37192536\n",
      " 30.34435963  0.99667684  3.31552163  0.65653096 10.5402177 ]\n",
      "[ 8.02595238  0.55164286  0.28342857  2.94452381  0.0931381  25.70833333\n",
      " 91.72857143  0.99694274  3.2987381   0.66269048 10.09388889]\n"
     ]
    }
   ],
   "source": [
    "clasters(2)"
   ]
  },
  {
   "cell_type": "code",
   "execution_count": 38,
   "id": "e5a6a7b6",
   "metadata": {
    "pycharm": {
     "name": "#%%\n"
    }
   },
   "outputs": [
    {
     "name": "stdout",
     "output_type": "stream",
     "text": [
      "[ 8.48238095  0.51944643  0.27061905  2.3710119   0.08449405  9.18333333\n",
      " 22.95595238  0.99662838  3.31033333  0.64833333 10.58924603]\n",
      "[7.88755187e+00 5.72365145e-01 2.75643154e-01 3.23236515e+00\n",
      " 8.83983402e-02 2.61514523e+01 1.08506224e+02 9.96934730e-01\n",
      " 3.28962656e+00 6.52033195e-01 1.00089212e+01]\n",
      "[ 8.25675676  0.52067568  0.26938224  2.48822394  0.09185328 21.94498069\n",
      " 55.73166023  0.99685102  3.32237452  0.6769112  10.3460103 ]\n"
     ]
    }
   ],
   "source": [
    "clasters(3)"
   ]
  },
  {
   "cell_type": "code",
   "execution_count": 39,
   "id": "e41d256b",
   "metadata": {
    "pycharm": {
     "name": "#%%\n"
    }
   },
   "outputs": [
    {
     "name": "stdout",
     "output_type": "stream",
     "text": [
      "[8.03229167e+00 5.54114583e-01 3.18645833e-01 3.38333333e+00\n",
      " 8.96979167e-02 2.97447917e+01 1.31541667e+02 9.97048542e-01\n",
      " 3.22781250e+00 6.93229167e-01 9.85625000e+00]\n",
      "[ 8.53997271  0.52080491  0.27282401  2.38396999  0.08381855  8.43929059\n",
      " 20.86630286  0.99662588  3.30608458  0.64739427 10.60322874]\n",
      "[ 8.17398058  0.52219417  0.25413592  2.39883495  0.09004272 19.43009709\n",
      " 48.24466019  0.99673575  3.33069903  0.67343689 10.39812298]\n",
      "[ 8.08862745  0.54945098  0.28172549  2.94862745  0.0919098  24.84705882\n",
      " 84.44313725  0.99700235  3.31737255  0.64498039 10.16843137]\n"
     ]
    }
   ],
   "source": [
    "clasters(4)"
   ]
  },
  {
   "cell_type": "markdown",
   "id": "c70f275c",
   "metadata": {
    "pycharm": {
     "name": "#%% md\n"
    }
   },
   "source": [
    "## 7. Використовуючи функцію AgglomerativeClustering бібліотеки scikitlearn:\n",
    "виконати розбиття набору даних на кластери. Кількість кластерів обрати такою ж самою, як і в попередньому методі. Вивести\n",
    "координати центрів кластерів."
   ]
  },
  {
   "cell_type": "code",
   "execution_count": 46,
   "id": "90673c57",
   "metadata": {
    "pycharm": {
     "name": "#%%\n"
    }
   },
   "outputs": [],
   "source": [
    "agg_clustering = AgglomerativeClustering(n_clusters=3)\n",
    "labels = agg_clustering.fit_predict(X)"
   ]
  },
  {
   "cell_type": "code",
   "execution_count": 47,
   "id": "c17f6c5d",
   "metadata": {
    "pycharm": {
     "name": "#%%\n"
    }
   },
   "outputs": [
    {
     "name": "stdout",
     "output_type": "stream",
     "text": [
      "[0 0 0 ... 0 0 0]\n"
     ]
    }
   ],
   "source": [
    "print(labels)"
   ]
  },
  {
   "cell_type": "code",
   "execution_count": 48,
   "id": "66adb2fa",
   "metadata": {
    "scrolled": true,
    "pycharm": {
     "name": "#%%\n"
    }
   },
   "outputs": [
    {
     "name": "stdout",
     "output_type": "stream",
     "text": [
      "fixed acidity            8.170886\n",
      "volatile acidity         0.530127\n",
      "citric acid              0.256315\n",
      "residual sugar           2.429325\n",
      "chlorides                0.090435\n",
      "free sulfur dioxide     19.587201\n",
      "total sulfur dioxide    52.610408\n",
      "density                  0.996791\n",
      "pH                       3.334430\n",
      "sulphates                0.665907\n",
      "alcohol                 10.373277\n",
      "dtype: float64\n",
      "fixed acidity             7.980476\n",
      "volatile acidity          0.557595\n",
      "citric acid               0.288905\n",
      "residual sugar            3.362857\n",
      "chlorides                 0.089938\n",
      "free sulfur dioxide      28.654762\n",
      "total sulfur dioxide    111.342857\n",
      "density                   0.996994\n",
      "pH                        3.270714\n",
      "sulphates                 0.659048\n",
      "alcohol                   9.976587\n",
      "dtype: float64\n",
      "fixed acidity            8.580678\n",
      "volatile acidity         0.516180\n",
      "citric acid              0.280796\n",
      "residual sugar           2.398378\n",
      "chlorides                0.083588\n",
      "free sulfur dioxide      8.023599\n",
      "total sulfur dioxide    19.932153\n",
      "density                  0.996624\n",
      "pH                       3.299174\n",
      "sulphates                0.649735\n",
      "alcohol                 10.613373\n",
      "dtype: float64\n"
     ]
    }
   ],
   "source": [
    "cluster_centers = []\n",
    "for cluster_label in range(3):\n",
    "    cluster_points = X[labels == cluster_label]\n",
    "    cluster_center = np.mean(cluster_points, axis=0)\n",
    "    cluster_centers.append(cluster_center)\n",
    "\n",
    "# Выводим координаты центроидов\n",
    "for center in cluster_centers:\n",
    "    print(center)"
   ]
  },
  {
   "cell_type": "markdown",
   "id": "7397bcfa",
   "metadata": {
    "pycharm": {
     "name": "#%% md\n"
    }
   },
   "source": [
    "## 8. Порівняти результати двох використаних методів кластеризації."
   ]
  },
  {
   "cell_type": "code",
   "execution_count": null,
   "id": "42968848",
   "metadata": {
    "pycharm": {
     "name": "#%%\n"
    }
   },
   "outputs": [],
   "source": []
  },
  {
   "cell_type": "code",
   "execution_count": null,
   "id": "61b67da9",
   "metadata": {
    "pycharm": {
     "name": "#%%\n"
    }
   },
   "outputs": [],
   "source": []
  },
  {
   "cell_type": "code",
   "execution_count": null,
   "id": "a37e24f9",
   "metadata": {
    "pycharm": {
     "name": "#%%\n"
    }
   },
   "outputs": [],
   "source": []
  },
  {
   "cell_type": "code",
   "execution_count": null,
   "id": "d434445a",
   "metadata": {
    "pycharm": {
     "name": "#%%\n"
    }
   },
   "outputs": [],
   "source": []
  },
  {
   "cell_type": "code",
   "execution_count": null,
   "id": "a0ba1c2b",
   "metadata": {
    "pycharm": {
     "name": "#%%\n"
    }
   },
   "outputs": [],
   "source": []
  },
  {
   "cell_type": "code",
   "execution_count": null,
   "id": "938ea072",
   "metadata": {
    "pycharm": {
     "name": "#%%\n"
    }
   },
   "outputs": [],
   "source": []
  },
  {
   "cell_type": "code",
   "execution_count": null,
   "id": "1eb162a3",
   "metadata": {
    "pycharm": {
     "name": "#%%\n"
    }
   },
   "outputs": [],
   "source": []
  },
  {
   "cell_type": "code",
   "execution_count": null,
   "id": "84bbb215",
   "metadata": {
    "pycharm": {
     "name": "#%%\n"
    }
   },
   "outputs": [],
   "source": []
  }
 ],
 "metadata": {
  "kernelspec": {
   "display_name": "Python 3 (ipykernel)",
   "language": "python",
   "name": "python3"
  },
  "language_info": {
   "codemirror_mode": {
    "name": "ipython",
    "version": 3
   },
   "file_extension": ".py",
   "mimetype": "text/x-python",
   "name": "python",
   "nbconvert_exporter": "python",
   "pygments_lexer": "ipython3",
   "version": "3.8.13"
  }
 },
 "nbformat": 4,
 "nbformat_minor": 5
}