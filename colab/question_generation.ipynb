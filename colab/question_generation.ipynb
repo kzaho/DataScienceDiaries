{
  "nbformat": 4,
  "nbformat_minor": 0,
  "metadata": {
    "colab": {
      "provenance": [],
      "include_colab_link": true
    },
    "kernelspec": {
      "name": "python3",
      "language": "python",
      "display_name": "Python 3 (ipykernel)"
    },
    "language_info": {
      "name": "python"
    }
  },
  "cells": [
    {
      "cell_type": "markdown",
      "metadata": {
        "id": "view-in-github",
        "colab_type": "text"
      },
      "source": [
        "<a href=\"https://colab.research.google.com/github/kzaho/DataScienceDiaries/blob/main/colab/question_generation.ipynb\" target=\"_parent\"><img src=\"https://colab.research.google.com/assets/colab-badge.svg\" alt=\"Open In Colab\"/></a>"
      ]
    },
    {
      "cell_type": "code",
      "execution_count": 14,
      "metadata": {
        "id": "513JUJ3mh3xY",
        "ExecuteTime": {
          "end_time": "2023-09-15T09:37:03.168242400Z",
          "start_time": "2023-09-15T09:36:55.727325700Z"
        },
        "colab": {
          "base_uri": "https://localhost:8080/"
        },
        "outputId": "0d627237-c754-418f-fc6a-c190e7c13881"
      },
      "outputs": [
        {
          "output_type": "stream",
          "name": "stdout",
          "text": [
            "\u001b[2K     \u001b[90m━━━━━━━━━━━━━━━━━━━━━━━━━━━━━━━━━━━━━━━━\u001b[0m \u001b[32m1.6/1.6 MB\u001b[0m \u001b[31m7.8 MB/s\u001b[0m eta \u001b[36m0:00:00\u001b[0m\n",
            "\u001b[2K     \u001b[90m━━━━━━━━━━━━━━━━━━━━━━━━━━━━━━━━━━━━━━━━\u001b[0m \u001b[32m49.4/49.4 kB\u001b[0m \u001b[31m5.1 MB/s\u001b[0m eta \u001b[36m0:00:00\u001b[0m\n",
            "\u001b[2K     \u001b[90m━━━━━━━━━━━━━━━━━━━━━━━━━━━━━━━━━━━━━━━━\u001b[0m \u001b[32m76.5/76.5 kB\u001b[0m \u001b[31m1.3 MB/s\u001b[0m eta \u001b[36m0:00:00\u001b[0m\n",
            "\u001b[2K     \u001b[90m━━━━━━━━━━━━━━━━━━━━━━━━━━━━━━━━━━━━━━━━\u001b[0m \u001b[32m20.2/20.2 MB\u001b[0m \u001b[31m39.3 MB/s\u001b[0m eta \u001b[36m0:00:00\u001b[0m\n",
            "\u001b[2K     \u001b[90m━━━━━━━━━━━━━━━━━━━━━━━━━━━━━━━━━━━━━━━━\u001b[0m \u001b[32m66.2/66.2 kB\u001b[0m \u001b[31m5.4 MB/s\u001b[0m eta \u001b[36m0:00:00\u001b[0m\n",
            "\u001b[?25h  Preparing metadata (setup.py) ... \u001b[?25l\u001b[?25hdone\n",
            "\u001b[2K     \u001b[90m━━━━━━━━━━━━━━━━━━━━━━━━━━━━━━━━━━━━━━\u001b[0m \u001b[32m298.2/298.2 kB\u001b[0m \u001b[31m27.8 MB/s\u001b[0m eta \u001b[36m0:00:00\u001b[0m\n",
            "\u001b[2K     \u001b[90m━━━━━━━━━━━━━━━━━━━━━━━━━━━━━━━━━━━━━━━━\u001b[0m \u001b[32m75.7/75.7 kB\u001b[0m \u001b[31m8.2 MB/s\u001b[0m eta \u001b[36m0:00:00\u001b[0m\n",
            "\u001b[2K     \u001b[90m━━━━━━━━━━━━━━━━━━━━━━━━━━━━━━━━━━━━━━\u001b[0m \u001b[32m294.8/294.8 kB\u001b[0m \u001b[31m22.4 MB/s\u001b[0m eta \u001b[36m0:00:00\u001b[0m\n",
            "\u001b[2K     \u001b[90m━━━━━━━━━━━━━━━━━━━━━━━━━━━━━━━━━━━━━━\u001b[0m \u001b[32m138.7/138.7 kB\u001b[0m \u001b[31m15.2 MB/s\u001b[0m eta \u001b[36m0:00:00\u001b[0m\n",
            "\u001b[2K     \u001b[90m━━━━━━━━━━━━━━━━━━━━━━━━━━━━━━━━━━━━━━━━\u001b[0m \u001b[32m45.7/45.7 kB\u001b[0m \u001b[31m5.1 MB/s\u001b[0m eta \u001b[36m0:00:00\u001b[0m\n",
            "\u001b[2K     \u001b[90m━━━━━━━━━━━━━━━━━━━━━━━━━━━━━━━━━━━━━━━━\u001b[0m \u001b[32m59.5/59.5 kB\u001b[0m \u001b[31m6.7 MB/s\u001b[0m eta \u001b[36m0:00:00\u001b[0m\n",
            "\u001b[2K     \u001b[90m━━━━━━━━━━━━━━━━━━━━━━━━━━━━━━━━━━━━━━\u001b[0m \u001b[32m129.9/129.9 kB\u001b[0m \u001b[31m13.3 MB/s\u001b[0m eta \u001b[36m0:00:00\u001b[0m\n",
            "\u001b[2K     \u001b[90m━━━━━━━━━━━━━━━━━━━━━━━━━━━━━━━━━━━━━━━━\u001b[0m \u001b[32m58.3/58.3 kB\u001b[0m \u001b[31m6.4 MB/s\u001b[0m eta \u001b[36m0:00:00\u001b[0m\n",
            "\u001b[2K     \u001b[90m━━━━━━━━━━━━━━━━━━━━━━━━━━━━━━━━━━━━━━━━\u001b[0m \u001b[32m67.0/67.0 kB\u001b[0m \u001b[31m8.0 MB/s\u001b[0m eta \u001b[36m0:00:00\u001b[0m\n",
            "\u001b[2K     \u001b[90m━━━━━━━━━━━━━━━━━━━━━━━━━━━━━━━━━━━━━━━━\u001b[0m \u001b[32m76.0/76.0 kB\u001b[0m \u001b[31m7.0 MB/s\u001b[0m eta \u001b[36m0:00:00\u001b[0m\n",
            "\u001b[?25h  Building wheel for ffmpy (setup.py) ... \u001b[?25l\u001b[?25hdone\n"
          ]
        }
      ],
      "source": [
        "!pip install -q langchain==0.0.279\n",
        "!pip install -q openai==0.28.0\n",
        "!pip install -q gradio"
      ]
    },
    {
      "cell_type": "code",
      "source": [
        "from google.colab import drive\n",
        "\n",
        "# This will prompt for authorization.\n",
        "drive.mount('/content/drive')"
      ],
      "metadata": {
        "id": "0KFZjSLvoZOH",
        "colab": {
          "base_uri": "https://localhost:8080/"
        },
        "outputId": "5d182328-29ab-4ce3-82d3-fad740823834",
        "ExecuteTime": {
          "end_time": "2023-09-15T09:37:06.822794300Z",
          "start_time": "2023-09-15T09:37:05.954338100Z"
        }
      },
      "execution_count": 15,
      "outputs": [
        {
          "output_type": "stream",
          "name": "stdout",
          "text": [
            "Mounted at /content/drive\n"
          ]
        }
      ]
    },
    {
      "cell_type": "code",
      "source": [
        "# this won't work\n",
        "# with open('/content/drive/MyDrive/LLM/token.gdoc') as f:\n",
        "\n",
        "with open('/content/drive/MyDrive/cognitive_test_generator_with_KZ/LLM/token.txt') as f:\n",
        "    api_key = f.readline()"
      ],
      "metadata": {
        "id": "8RPE07fYh_od"
      },
      "execution_count": 16,
      "outputs": []
    },
    {
      "cell_type": "code",
      "source": [
        "from langchain.prompts import PromptTemplate\n",
        "from langchain.chains.summarize import load_summarize_chain\n",
        "from langchain.docstore.document import Document\n",
        "from langchain.chat_models import ChatOpenAI\n",
        "\n",
        "# llm = ChatOpenAI(openai_api_key=api_key, model_name='gpt-4-0613')\n",
        "llm = ChatOpenAI(openai_api_key=api_key, model_name='gpt-3.5-turbo')"
      ],
      "metadata": {
        "id": "PjwljX0biALs"
      },
      "execution_count": 25,
      "outputs": []
    },
    {
      "cell_type": "code",
      "source": [
        "def get_cat4_test_q_prompt(n_questions=5, user_instruction=\"\"):\n",
        "\n",
        "    ordered_instructions = [\n",
        "        f\"Generate JSON with list of {n_questions} questions.\",\n",
        "        \"\"\"Each questions is a dict with such keys:\n",
        "        question_id (string), question (string), options (list of strings), correct_answer (string), explanation (string).\"\"\",\n",
        "        \"Each question should only contain one correct answer. Incorrect answers should be plausible but incorrect.\",\n",
        "        \"Provide explanation for the correct answer.\",\n",
        "        \"\"\"Format the output as in the example:\n",
        "\n",
        "        {{\n",
        "            \"questions\": [\n",
        "                {{\n",
        "                    \"question_id\": 1,\n",
        "                    \"question\": \"Which one of the following is not a bird?\",\n",
        "                    \"options\": [\"🦅\", \"🦉\", \"🦚\", \"🐱\"],\n",
        "                    \"correct_answer\": \"🐱\",\n",
        "                    \"explanation\": \"birds have wings, 🐱 does not\"\n",
        "                }},\n",
        "                {{\n",
        "                    \"question_id\": 2,\n",
        "                    \"question\": \"Which animal is known to love eating bananas?\",\n",
        "                    \"options\": [\"🐶\", \"🐱\", \"🦓\", \"🐒\"],\n",
        "                    \"correct_answer\": \"🐒\",\n",
        "                    \"explanation\": \"it is hard for other animals to grasp a banana, so they usually eat other food\"\n",
        "                }}\n",
        "            ]\n",
        "        }}\n",
        "\n",
        "        \"\"\",\n",
        "        \"\"\"Only use the following context (if exists) to come up with the questions:\n",
        "        {text}\"\"\",\n",
        "    ]\n",
        "\n",
        "    prompt_template = \"Abide by instructions.\\n\"\n",
        "    instructions_counter = 1\n",
        "    if len(user_instruction):\n",
        "        prompt_template += f\"Instruction {instructions_counter}. {user_instruction}\\n\"\n",
        "        instructions_counter += 1\n",
        "\n",
        "    for instruction in ordered_instructions:\n",
        "        prompt_template += f\"Instruction {instructions_counter}. {instruction}\\n\"\n",
        "        instructions_counter += 1\n",
        "\n",
        "\n",
        "    prompt_template += \"\\nJSON:\"\n",
        "\n",
        "    main_prompt = PromptTemplate(template=prompt_template, input_variables=[\"text\"])\n",
        "\n",
        "    refine_template = (\n",
        "        \"Your job is to refine a quiz with single-choice questions for children.\\n\"\n",
        "        \"We have provided an existing set of questions in JSON: {existing_answer}\\n\"\n",
        "        \"Here is some more context (if exists) that might help.\\n\"\n",
        "        \"------------\\n\"\n",
        "        \"{text}\\n\"\n",
        "        \"------------\\n\"\n",
        "        \"Given the new context, refine the original set of questions.\\n\"\n",
        "        \"If the context isn't useful, return the original set of questions.\\n\"\n",
        "        \"Only respond with a single JSON.\\n\"\n",
        "        \"Here is the refined quiz in JSON format based on the provided context:\"\n",
        "    )\n",
        "\n",
        "    refined_prompt = PromptTemplate(\n",
        "        input_variables=[\"existing_answer\", \"text\"],\n",
        "        template=refine_template,\n",
        "    )\n",
        "\n",
        "    return main_prompt, refined_prompt"
      ],
      "metadata": {
        "id": "M6iigwpTiAOt"
      },
      "execution_count": 18,
      "outputs": []
    },
    {
      "cell_type": "code",
      "source": [
        "from typing import List\n",
        "from pydantic import BaseModel, Field\n",
        "from langchain.output_parsers import PydanticOutputParser\n",
        "\n",
        "class Question(BaseModel):\n",
        "    question_id: str = Field(..., description=\"ID of the question\")\n",
        "    question: str = Field(..., description=\"The question text\")\n",
        "    options: List[str] = Field(..., description=\"List of answer options\")\n",
        "    correct_answer: str = Field(..., description=\"The correct answer\")\n",
        "    explanation: str = Field(..., description=\"Explanation for the correct answer\")\n",
        "\n",
        "class Quiz(BaseModel):\n",
        "    questions: List[Question] = Field(..., description=\"List of questions\")\n",
        "\n",
        "parser = PydanticOutputParser(pydantic_object=Quiz)"
      ],
      "metadata": {
        "id": "exx-Z7VTjUqR"
      },
      "execution_count": 19,
      "outputs": []
    },
    {
      "cell_type": "markdown",
      "source": [
        "\n",
        "\n"
      ],
      "metadata": {
        "id": "TFrEAXpqDoLz"
      }
    },
    {
      "cell_type": "code",
      "source": [
        "from langchain.output_parsers import OutputFixingParser\n",
        "import json\n",
        "\n",
        "\n",
        "def gen_cat4_questions(user_instruction,  n_questions=5, docs = [\"\"]):\n",
        "\n",
        "  main_prompt, refined_prompt = get_cat4_test_q_prompt(\n",
        "      n_questions=n_questions,\n",
        "      user_instruction=user_instruction\n",
        "  )\n",
        "\n",
        "  chain = load_summarize_chain(\n",
        "      llm=llm,\n",
        "      chain_type=\"refine\",\n",
        "      return_intermediate_steps=True,\n",
        "      question_prompt=main_prompt,\n",
        "      refine_prompt=refined_prompt,\n",
        "  )\n",
        "\n",
        "  docs = [Document(page_content=doc_text) for doc_text in docs]\n",
        "\n",
        "  output = chain({\"input_documents\": docs}, return_only_outputs=True)\n",
        "\n",
        "  try:\n",
        "    parsed_output = json.loads(output[\"output_text\"])\n",
        "  except:\n",
        "    misformatted = output[\"output_text\"]\n",
        "    new_parser = OutputFixingParser.from_llm(parser=parser, llm=llm)\n",
        "    quiz = new_parser.parse(misformatted)\n",
        "    parsed_output = [{\n",
        "      \"question_id\": j.question_id,\n",
        "      \"question\": j.question,\n",
        "      \"options\": j.options,\n",
        "      \"correct_answer\": j.correct_answer,\n",
        "      \"explanation\": j.explanation\n",
        "    } for j in quiz.questions]\n",
        "\n",
        "  return parsed_output"
      ],
      "metadata": {
        "id": "E5oGdnjUjaOr"
      },
      "execution_count": 20,
      "outputs": []
    },
    {
      "cell_type": "code",
      "source": [
        "from bs4 import BeautifulSoup\n",
        "import requests\n",
        "\n",
        "# Fetch the HTML content from a website (replace the URL with the one you're interested in)\n",
        "def get_content_pairs(url = \"https://www.gutenberg.org/files/21/21-h/21-h.htm\"):\n",
        "  response = requests.get(url)\n",
        "\n",
        "  # Parse the HTML content\n",
        "  soup = BeautifulSoup(response.content, 'html.parser')\n",
        "\n",
        "  # Find all h2 tags\n",
        "  h2_tags = soup.find_all('h2')\n",
        "\n",
        "  # Initialize an empty list to store h2 and the content between them\n",
        "  h2_content_pairs = []\n",
        "\n",
        "  # Loop through each h2 tag to find the content between them\n",
        "  for i in range(len(h2_tags) - 1):\n",
        "      h2_start = h2_tags[i]\n",
        "      h2_end = h2_tags[i + 1]\n",
        "\n",
        "      content = []\n",
        "      for elem in h2_start.find_next_siblings():\n",
        "          if elem == h2_end:\n",
        "              break\n",
        "          if elem.name == 'p':\n",
        "              content.append(elem.text.strip())\n",
        "\n",
        "      h2_content_pairs.append({\n",
        "          'h2': h2_start.text.strip(),\n",
        "          'content': ' '.join(content)\n",
        "      })\n",
        "\n",
        "  # Print the pairs\n",
        "  # for pair in h2_content_pairs[:3]:\n",
        "  #     print(f\"H2: {pair['h2']}\")\n",
        "  #     print(f\"Content: {pair['content']}\")\n",
        "  #     print(\"---\")\n",
        "\n",
        "  return h2_content_pairs"
      ],
      "metadata": {
        "id": "p0IeT3CMzcvu"
      },
      "execution_count": 21,
      "outputs": []
    },
    {
      "cell_type": "code",
      "source": [
        "content_pairs = get_content_pairs()[1:]\n",
        "content_dict = {j['h2']:j['h2']+'\\n'+j['content'] for j in content_pairs}\n",
        "content_keys = [j['h2'] for j in content_pairs]"
      ],
      "metadata": {
        "id": "ivzdbgGjWA0v"
      },
      "execution_count": 22,
      "outputs": []
    },
    {
      "cell_type": "code",
      "source": [
        "import time\n",
        "\n",
        "# Record the start time\n",
        "start_time = time.time()\n",
        "\n",
        "# Your code here\n",
        "parsed_output = gen_cat4_questions(\n",
        "    user_instruction=\"Create a Verbal Reasoning question for 11+ United Kingdom exam.\",\n",
        "    n_questions=5,\n",
        "    docs=[content_dict[content_keys[0]]]\n",
        ")\n",
        "\n",
        "# Record the end time\n",
        "end_time = time.time()\n",
        "\n",
        "# Calculate and print the elapsed time\n",
        "elapsed_time = end_time - start_time\n",
        "print(f\"Elapsed time: {elapsed_time} seconds\")"
      ],
      "metadata": {
        "colab": {
          "base_uri": "https://localhost:8080/"
        },
        "id": "bSlInNfbQbvH",
        "outputId": "fc8aa55e-ee3d-4a2a-e828-a6704e6fb1b8"
      },
      "execution_count": 23,
      "outputs": [
        {
          "output_type": "stream",
          "name": "stdout",
          "text": [
            "Elapsed time: 48.95587348937988 seconds\n"
          ]
        }
      ]
    },
    {
      "cell_type": "markdown",
      "source": [
        "suggestions for GRADIO\n",
        "\n",
        "\n",
        "\n",
        "\n",
        "and workflow\n",
        "1. reference this source file [/dir source]\n",
        "2. ref /prompt_template  [template1.txt] [file open]\n",
        "\n",
        "1a. load the prompt: Create a Verbal Reasoning {/source/Alpha1.txt.var.x}question {/source/Beta1.txt.var.x}}using Animal emojis for 11+ United Kingdom exam.\n",
        "\n",
        "\n",
        "3. write file to /source [google sheet]\n",
        "\n"
      ],
      "metadata": {
        "id": "jr6qHIlkLmz9"
      }
    },
    {
      "cell_type": "markdown",
      "source": [
        "For user to be able to iterate over a google spreadsheet of data line by line and pass the results to a prompt that can handle variables and then LLM write the results to the same sheet. (simple) GRADIO idea: limit the number of lines being passed at anyone time.\n"
      ],
      "metadata": {
        "id": "ba6BpEy8MZ5K"
      }
    },
    {
      "cell_type": "markdown",
      "source": [
        "Validate the JSON output with https://jsonlint.com/"
      ],
      "metadata": {
        "id": "DnCpqVHFRGhH"
      }
    },
    {
      "cell_type": "code",
      "source": [
        "import gradio as gr\n",
        "import json\n",
        "\n",
        "# Your original function\n",
        "def my_function(input_text, slider_value, content_key, **kwargs):\n",
        "    parsed_output = gen_cat4_questions(\n",
        "        user_instruction=input_text,\n",
        "        n_questions=slider_value,\n",
        "        docs=[content_dict[content_key]]\n",
        "    )\n",
        "\n",
        "    return json.dumps(parsed_output)\n",
        "\n",
        "iface = gr.Interface(\n",
        "    fn=my_function,  # Function to be triggered\n",
        "    inputs=[\n",
        "        gr.Textbox(\n",
        "            label=\"Promt\",\n",
        "            value=\"Create a Verbal Reasoning question for 11+ United Kingdom exam.\"\n",
        "        ),\n",
        "        gr.Slider(minimum=3, maximum=20, default=5, step=1),\n",
        "        gr.Dropdown(\n",
        "            content_keys, label=\"AESOP’S FABLES\", info=\"By Aesop, Translated by George Fyler Townsend\"\n",
        "        )\n",
        "    ],\n",
        "    outputs=\"json\",\n",
        "    live=False\n",
        ")\n",
        "\n",
        "iface.launch(debug=True, share=True)"
      ],
      "metadata": {
        "colab": {
          "base_uri": "https://localhost:8080/",
          "height": 660
        },
        "id": "HAfVd1tjZMXg",
        "outputId": "84fa6287-7602-4aaf-af7e-f34a5a81459f"
      },
      "execution_count": 27,
      "outputs": [
        {
          "output_type": "stream",
          "name": "stderr",
          "text": [
            "<ipython-input-27-65e51a555b8f>:21: GradioUnusedKwargWarning: You have unused kwarg parameters in Slider, please remove them: {'default': 5}\n",
            "  gr.Slider(minimum=3, maximum=20, default=5, step=1),\n"
          ]
        },
        {
          "output_type": "stream",
          "name": "stdout",
          "text": [
            "Colab notebook detected. This cell will run indefinitely so that you can see errors and logs. To turn off, set debug=False in launch().\n",
            "Running on public URL: https://7a9b08cc1ca5b56822.gradio.live\n",
            "\n",
            "This share link expires in 72 hours. For free permanent hosting and GPU upgrades, run `gradio deploy` from Terminal to deploy to Spaces (https://huggingface.co/spaces)\n"
          ]
        },
        {
          "output_type": "display_data",
          "data": {
            "text/plain": [
              "<IPython.core.display.HTML object>"
            ],
            "text/html": [
              "<div><iframe src=\"https://7a9b08cc1ca5b56822.gradio.live\" width=\"100%\" height=\"500\" allow=\"autoplay; camera; microphone; clipboard-read; clipboard-write;\" frameborder=\"0\" allowfullscreen></iframe></div>"
            ]
          },
          "metadata": {}
        },
        {
          "output_type": "stream",
          "name": "stdout",
          "text": [
            "Keyboard interruption in main thread... closing server.\n",
            "Killing tunnel 127.0.0.1:7860 <> https://7a9b08cc1ca5b56822.gradio.live\n"
          ]
        },
        {
          "output_type": "execute_result",
          "data": {
            "text/plain": []
          },
          "metadata": {},
          "execution_count": 27
        }
      ]
    },
    {
      "cell_type": "code",
      "source": [
        "with open(\"quiz_data.json\", \"w\") as f:\n",
        "    json.dump(parsed_output, f)"
      ],
      "metadata": {
        "id": "mgTRWGvgdzSX"
      },
      "execution_count": 29,
      "outputs": []
    },
    {
      "cell_type": "code",
      "source": [
        "import gradio as gr\n",
        "import json\n",
        "\n",
        "def check_answers(*answers):\n",
        "    with open(\"quiz_data.json\", \"r\") as f:\n",
        "        quiz_data = json.load(f)\n",
        "\n",
        "    results = []\n",
        "    for i, answer in enumerate(answers):\n",
        "        question = quiz_data[\"questions\"][i]\n",
        "        if answer == question[\"correct_answer\"]:\n",
        "            results.append(f\"Question {i+1}: Correct\")\n",
        "        else:\n",
        "            results.append(f\"Question {i+1}: Incorrect\")\n",
        "    return \"\\n\".join(results)\n",
        "\n",
        "# Load quiz_data.json to generate the quiz interface\n",
        "with open(\"quiz_data.json\", \"r\") as f:\n",
        "    quiz_data = json.load(f)\n",
        "\n",
        "quiz_inputs = [\n",
        "    gr.Dropdown(\n",
        "        choices=quiz_data[\"questions\"][i][\"options\"],\n",
        "        label=quiz_data[\"questions\"][i][\"question\"]\n",
        "    )\n",
        "    for i in range(len(quiz_data[\"questions\"]))\n",
        "]\n",
        "\n",
        "iface2 = gr.Interface(\n",
        "    fn=check_answers,\n",
        "    inputs=quiz_inputs,\n",
        "    outputs=\"text\",\n",
        "    live=False\n",
        ")\n",
        "\n",
        "iface2.launch()"
      ],
      "metadata": {
        "colab": {
          "base_uri": "https://localhost:8080/",
          "height": 616
        },
        "id": "4nSrM19OddpA",
        "outputId": "5098437a-b05c-42bd-dacf-f76e7ca9a926"
      },
      "execution_count": 31,
      "outputs": [
        {
          "output_type": "stream",
          "name": "stdout",
          "text": [
            "Colab notebook detected. To show errors in colab notebook, set debug=True in launch()\n",
            "Note: opening Chrome Inspector may crash demo inside Colab notebooks.\n",
            "\n",
            "To create a public link, set `share=True` in `launch()`.\n"
          ]
        },
        {
          "output_type": "display_data",
          "data": {
            "text/plain": [
              "<IPython.core.display.Javascript object>"
            ],
            "application/javascript": [
              "(async (port, path, width, height, cache, element) => {\n",
              "                        if (!google.colab.kernel.accessAllowed && !cache) {\n",
              "                            return;\n",
              "                        }\n",
              "                        element.appendChild(document.createTextNode(''));\n",
              "                        const url = await google.colab.kernel.proxyPort(port, {cache});\n",
              "\n",
              "                        const external_link = document.createElement('div');\n",
              "                        external_link.innerHTML = `\n",
              "                            <div style=\"font-family: monospace; margin-bottom: 0.5rem\">\n",
              "                                Running on <a href=${new URL(path, url).toString()} target=\"_blank\">\n",
              "                                    https://localhost:${port}${path}\n",
              "                                </a>\n",
              "                            </div>\n",
              "                        `;\n",
              "                        element.appendChild(external_link);\n",
              "\n",
              "                        const iframe = document.createElement('iframe');\n",
              "                        iframe.src = new URL(path, url).toString();\n",
              "                        iframe.height = height;\n",
              "                        iframe.allow = \"autoplay; camera; microphone; clipboard-read; clipboard-write;\"\n",
              "                        iframe.width = width;\n",
              "                        iframe.style.border = 0;\n",
              "                        element.appendChild(iframe);\n",
              "                    })(7860, \"/\", \"100%\", 500, false, window.element)"
            ]
          },
          "metadata": {}
        },
        {
          "output_type": "execute_result",
          "data": {
            "text/plain": []
          },
          "metadata": {},
          "execution_count": 31
        }
      ]
    },
    {
      "cell_type": "code",
      "source": [],
      "metadata": {
        "id": "-H87tgSGjl27"
      },
      "execution_count": 24,
      "outputs": []
    },
    {
      "cell_type": "markdown",
      "source": [
        "/source/common phrasal verbs 1.\n",
        "\n",
        "---\n",
        "\n",
        "1. open the file common phrasal verbs\n",
        "2. read the first line\n",
        "3. open the prompt common phrasal verbs.txt\n",
        "pass the line to the prompt\n",
        "4"
      ],
      "metadata": {
        "id": "d1T9KcLXSJyl"
      }
    }
  ]
}